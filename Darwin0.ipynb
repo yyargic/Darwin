{
 "cells": [
  {
   "cell_type": "code",
   "execution_count": 276,
   "metadata": {},
   "outputs": [],
   "source": [
    "import torch\n",
    "import torch.nn as nn\n",
    "import torch.nn.functional as F\n",
    "import random\n",
    "from math import log\n",
    "import matplotlib.pyplot as plt\n",
    "%matplotlib inline"
   ]
  },
  {
   "cell_type": "code",
   "execution_count": 202,
   "metadata": {},
   "outputs": [
    {
     "name": "stdout",
     "output_type": "stream",
     "text": [
      "29494\n",
      "27\n",
      "{1: 'a', 2: 'b', 3: 'c', 4: 'd', 5: 'e', 6: 'f', 7: 'g', 8: 'h', 9: 'i', 10: 'j', 11: 'k', 12: 'l', 13: 'm', 14: 'n', 15: 'o', 16: 'p', 17: 'q', 18: 'r', 19: 's', 20: 't', 21: 'u', 22: 'v', 23: 'w', 24: 'x', 25: 'y', 26: 'z', 0: '.'}\n"
     ]
    },
    {
     "data": {
      "text/plain": [
       "(tensor([[1., 0., 0., 0., 0., 0., 0., 0., 0., 0., 0., 0., 0., 0., 0., 0., 0., 0.,\n",
       "          0., 0., 0., 0., 0., 0., 0., 0., 0.],\n",
       "         [0., 0., 1., 0., 0., 0., 0., 0., 0., 0., 0., 0., 0., 0., 0., 0., 0., 0.,\n",
       "          0., 0., 0., 0., 0., 0., 0., 0., 0.],\n",
       "         [0., 0., 0., 0., 0., 0., 0., 0., 0., 0., 0., 0., 0., 0., 0., 0., 0., 0.,\n",
       "          1., 0., 0., 0., 0., 0., 0., 0., 0.],\n",
       "         [0., 0., 0., 0., 0., 0., 0., 0., 0., 1., 0., 0., 0., 0., 0., 0., 0., 0.,\n",
       "          0., 0., 0., 0., 0., 0., 0., 0., 0.],\n",
       "         [0., 0., 0., 0., 0., 0., 0., 0., 0., 0., 0., 0., 0., 0., 0., 0., 0., 0.,\n",
       "          0., 0., 1., 0., 0., 0., 0., 0., 0.],\n",
       "         [0., 0., 0., 0., 0., 0., 0., 0., 0., 0., 0., 0., 0., 0., 1., 0., 0., 0.,\n",
       "          0., 0., 0., 0., 0., 0., 0., 0., 0.],\n",
       "         [0., 0., 0., 0., 0., 0., 0., 0., 0., 0., 0., 0., 0., 0., 0., 0., 0., 0.,\n",
       "          0., 0., 0., 0., 0., 0., 0., 1., 0.],\n",
       "         [1., 0., 0., 0., 0., 0., 0., 0., 0., 0., 0., 0., 0., 0., 0., 0., 0., 0.,\n",
       "          0., 0., 0., 0., 0., 0., 0., 0., 0.],\n",
       "         [0., 1., 0., 0., 0., 0., 0., 0., 0., 0., 0., 0., 0., 0., 0., 0., 0., 0.,\n",
       "          0., 0., 0., 0., 0., 0., 0., 0., 0.],\n",
       "         [0., 1., 0., 0., 0., 0., 0., 0., 0., 0., 0., 0., 0., 0., 0., 0., 0., 0.,\n",
       "          0., 0., 0., 0., 0., 0., 0., 0., 0.],\n",
       "         [0., 0., 0., 0., 0., 0., 0., 0., 0., 0., 0., 0., 0., 0., 0., 0., 0., 0.,\n",
       "          0., 0., 0., 0., 0., 0., 0., 1., 0.],\n",
       "         [0., 1., 0., 0., 0., 0., 0., 0., 0., 0., 0., 0., 0., 0., 0., 0., 0., 0.,\n",
       "          0., 0., 0., 0., 0., 0., 0., 0., 0.],\n",
       "         [0., 0., 0., 0., 0., 0., 0., 0., 0., 0., 0., 0., 0., 0., 0., 0., 0., 0.,\n",
       "          0., 0., 1., 0., 0., 0., 0., 0., 0.]]),\n",
       " tensor([ 2, 18,  9, 20, 14, 25,  0,  1,  1, 25,  1, 20,  0]))"
      ]
     },
     "execution_count": 202,
     "metadata": {},
     "output_type": "execute_result"
    }
   ],
   "source": [
    "# read all the words\n",
    "words = open('names.txt', 'r').read().splitlines()\n",
    "words = list(set(words))\n",
    "reversed_words = list(map(lambda w:w[::-1], words))\n",
    "\n",
    "# build the vocabulary of characters and mappings to/from integers\n",
    "chars = sorted(list(set(''.join(words))))\n",
    "stoi = {s:i+1 for i,s in enumerate(chars)}\n",
    "stoi['.'] = 0\n",
    "itos = {i:s for s,i in stoi.items()}\n",
    "vocab_size = len(itos)\n",
    "\n",
    "print(len(words))\n",
    "print(vocab_size)\n",
    "print(itos)\n",
    "\n",
    "# build the dataset\n",
    "def build_dataset(words):\n",
    "    X, Y = [], []\n",
    "    for w in words:\n",
    "        context = 0\n",
    "        for ch in w + '.':\n",
    "            ix = stoi[ch]\n",
    "            X.append(context)\n",
    "            Y.append(ix)\n",
    "            context = ix\n",
    "    X = F.one_hot(torch.tensor(X), num_classes=vocab_size).float()\n",
    "    Y = torch.tensor(Y)\n",
    "    return X, Y\n",
    "\n",
    "build_dataset(random.sample(words, 2))"
   ]
  },
  {
   "cell_type": "code",
   "execution_count": 360,
   "metadata": {},
   "outputs": [],
   "source": [
    "# create and train the initial model population\n",
    "\n",
    "pop_size = 32\n",
    "train_size = 1024\n",
    "\n",
    "batch_size = 64\n",
    "n_epochs = 100\n",
    "lr = 10.\n",
    "\n",
    "models = [torch.randn((vocab_size, vocab_size), requires_grad=True) for _ in range(pop_size)]\n",
    "\n",
    "for model in models:\n",
    "    \n",
    "    # dataset construct\n",
    "    data_X, data_Y = build_dataset(random.sample(words, train_size))\n",
    "    \n",
    "    # begin optimization\n",
    "    for _ in range(n_epochs):\n",
    "        \n",
    "        # minibatch construct\n",
    "        ix = torch.randint(0, data_Y.shape[0], (batch_size,))\n",
    "        Xb, Yb = data_X[ix], data_Y[ix]\n",
    "        \n",
    "        # forward pass\n",
    "        Xb_norm = Xb * ((Xb + 1e-5)**2).sum(1, keepdim=True)**-0.5\n",
    "        logits = Xb_norm @ model\n",
    "        loss = F.cross_entropy(logits, Yb)\n",
    "        \n",
    "        # backward pass\n",
    "        loss.backward()\n",
    "        model.data += -lr * model.grad\n",
    "        model.grad = None"
   ]
  },
  {
   "cell_type": "code",
   "execution_count": 361,
   "metadata": {},
   "outputs": [],
   "source": [
    "for model in models:\n",
    "    model.requires_grad = False"
   ]
  },
  {
   "cell_type": "code",
   "execution_count": 362,
   "metadata": {},
   "outputs": [
    {
     "name": "stdout",
     "output_type": "stream",
     "text": [
      "3.0140042304992676 3.127201557159424\n"
     ]
    }
   ],
   "source": [
    "# fitness function based on reversed bigrams\n",
    "@torch.no_grad()\n",
    "def fitness_loss(model):\n",
    "    Xr, Yr = build_dataset(reversed_words)\n",
    "    logits = Xr @ model\n",
    "    loss =  F.cross_entropy(logits, Yr)\n",
    "    return loss.item()\n",
    "\n",
    "fitness_loss_list = sorted(map(fitness_loss, models))\n",
    "print(min(fitness_loss_list), max(fitness_loss_list))"
   ]
  },
  {
   "cell_type": "code",
   "execution_count": 396,
   "metadata": {},
   "outputs": [
    {
     "name": "stdout",
     "output_type": "stream",
     "text": [
      "A generation has passed.\n"
     ]
    }
   ],
   "source": [
    "n_generations = 1\n",
    "n_children = 16\n",
    "n_batches = 100\n",
    "n_epochsX = 50\n",
    "lrX = 10.\n",
    "\n",
    "for _ in range(n_generations):\n",
    "    \n",
    "    # create untrained children\n",
    "    children = [torch.randn((vocab_size, vocab_size), requires_grad=True) for _ in range(n_children)]\n",
    "\n",
    "    for child in children:\n",
    "\n",
    "        # choose parents\n",
    "        mom, dad = random.sample(range(len(models)), 2)\n",
    "\n",
    "        # start training the child\n",
    "        for _ in range(n_batches):\n",
    "\n",
    "            # initialize fake data\n",
    "            Xc = torch.randn((batch_size, vocab_size), requires_grad=True)\n",
    "\n",
    "            # begin optimizing fake data\n",
    "            for _ in range(n_epochsX):\n",
    "\n",
    "                # feed fake data to parents, compare their outputs\n",
    "                Xc_norm = Xc * ((Xc + 1e-5)**2).sum(1, keepdim=True)**-0.5\n",
    "                mom_pred, dad_pred = F.log_softmax(Xc_norm @ models[mom], dim=1), F.log_softmax(Xc_norm @ models[dad], dim=1)\n",
    "                lossX = nn.KLDivLoss(log_target=True, reduction='batchmean')(mom_pred, dad_pred)\n",
    "\n",
    "                # optimize the data to find \"common ground\" between parents\n",
    "                lossX.backward()\n",
    "                Xc.data += -lrX * Xc.grad\n",
    "                Xc.grad = None\n",
    "\n",
    "            # train the child with mom's answer to the optimized fake data\n",
    "            Xc.detach_()\n",
    "            Xc_norm = Xc * ((Xc + 1e-5)**2).sum(1, keepdim=True)**-0.5\n",
    "            Yc = F.log_softmax(Xc_norm @ models[mom], dim=1)\n",
    "            child_pred = F.log_softmax(Xc_norm @ child, dim=1)\n",
    "            loss = nn.KLDivLoss(log_target=True, reduction='batchmean')(child_pred, Yc)\n",
    "            loss.backward()\n",
    "            child.data += -lrX * child.grad\n",
    "            child.grad = None\n",
    "    \n",
    "    # add children to the population\n",
    "    for child in children:\n",
    "        child.requires_grad = False\n",
    "    models = models + children\n",
    "    \n",
    "    # kill the unfit\n",
    "    models.sort(key=fitness_loss)\n",
    "    models = models[:pop_size]\n",
    "    \n",
    "    print(\"A generation has passed.\")"
   ]
  },
  {
   "cell_type": "code",
   "execution_count": 397,
   "metadata": {},
   "outputs": [
    {
     "name": "stdout",
     "output_type": "stream",
     "text": [
      "2.9641265869140625 2.998692274093628\n"
     ]
    }
   ],
   "source": [
    "fitness_loss_list = sorted(map(fitness_loss, models))\n",
    "print(min(fitness_loss_list), max(fitness_loss_list))"
   ]
  },
  {
   "cell_type": "code",
   "execution_count": 399,
   "metadata": {},
   "outputs": [
    {
     "data": {
      "image/png": "[encoded data removed]",
      "text/plain": [
       "<Figure size 432x288 with 1 Axes>"
      ]
     },
     "metadata": {
      "needs_background": "light"
     },
     "output_type": "display_data"
    },
    {
     "data": {
      "text/plain": [
       "16"
      ]
     },
     "execution_count": 399,
     "metadata": {},
     "output_type": "execute_result"
    }
   ],
   "source": [
    "mins = [3.0140042304992676, 3.0124454498291016, 2.9751508235931396, 2.9751508235931396, 2.9751508235931396, 2.9751508235931396, 2.9751508235931396, 2.9751508235931396, 2.9751508235931396, 2.9751508235931396, 2.9751508235931396, 2.9751508235931396, 2.9751508235931396, 2.9751508235931396, 2.9641265869140625, 2.9641265869140625]\n",
    "maxs = [3.127201557159424, 3.060105323791504, 3.0384182929992676, 3.026933193206787, 3.0176544189453125, 3.016462802886963, 3.01448655128479, 3.012882709503174, 3.011606454849243, 3.0109856128692627, 3.0073330402374268, 3.005284070968628, 3.003586530685425, 3.000889301300049, 3.000751495361328, 2.998920440673828]\n",
    "\n",
    "plt.plot(mins)\n",
    "plt.plot(maxs)\n",
    "plt.show()"
   ]
  },
  {
   "cell_type": "code",
   "execution_count": null,
   "metadata": {},
   "outputs": [],
   "source": []
  }
 ],
 "metadata": {
  "kernelspec": {
   "display_name": "Python 3",
   "language": "python",
   "name": "python3"
  },
  "language_info": {
   "codemirror_mode": {
    "name": "ipython",
    "version": 3
   },
   "file_extension": ".py",
   "mimetype": "text/x-python",
   "name": "python",
   "nbconvert_exporter": "python",
   "pygments_lexer": "ipython3",
   "version": "3.8.5"
  }
 },
 "nbformat": 4,
 "nbformat_minor": 4
}
